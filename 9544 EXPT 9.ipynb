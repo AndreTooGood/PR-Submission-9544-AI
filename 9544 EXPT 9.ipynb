{
 "cells": [
  {
   "cell_type": "code",
   "execution_count": 1,
   "metadata": {
    "colab": {
     "base_uri": "https://localhost:8080/"
    },
    "id": "yAnwzNWUJ7_9",
    "outputId": "c9884217-1c06-4e01-a35b-9ec81e9abbec"
   },
   "outputs": [
    {
     "name": "stdout",
     "output_type": "stream",
     "text": [
      "Enter your symptoms (comma-separated): cough, fatigue, shortness of breath\n",
      "\n",
      "Diagnosis:\n",
      "- bronchitis (42.1% chance)\n",
      "- pneumonia (36.8% chance)\n",
      "- asthma (21.1% chance)\n"
     ]
    }
   ],
   "source": [
    "#9544_AndreJohn_CompsA_BatchA\n",
    "import re\n",
    "# Define expert system rules\n",
    "rules = {\n",
    "    'cough': {\n",
    "        'bronchitis': 0.8,\n",
    "        'pneumonia': 0.7,\n",
    "        'asthma': 0.4\n",
    "    },\n",
    "    'fever': {\n",
    "        'flu': 0.9,\n",
    "        'pneumonia': 0.7,\n",
    "        'bronchitis': 0.4\n",
    "    },\n",
    "    'fatigue': {\n",
    "        'flu': 0.8,\n",
    "        'pneumonia': 0.6,\n",
    "        'asthma': 0.3\n",
    "    },\n",
    "    'shortness of breath': {\n",
    "        'pneumonia': 0.9,\n",
    "        'asthma': 0.6,\n",
    "        'bronchitis': 0.3\n",
    "    }\n",
    "}\n",
    "\n",
    "# Define function to prompt user for symptoms and return diagnosis\n",
    "def diagnose():\n",
    "    # Prompt user for symptoms\n",
    "    symptoms = input('Enter your symptoms (comma-separated): ').split(',')\n",
    "    \n",
    "    # Initialize diagnosis dictionary\n",
    "    diagnosis = {}\n",
    "    \n",
    "    # Iterate through rules to infer diagnosis\n",
    "    for symptom in symptoms:\n",
    "        if symptom in rules:\n",
    "            for condition, score in rules[symptom].items():\n",
    "                if condition not in diagnosis:\n",
    "                    diagnosis[condition] = score\n",
    "                else:\n",
    "                    diagnosis[condition] *= score\n",
    "    \n",
    "    # Normalize scores and sort by descending score\n",
    "    total = sum(diagnosis.values())\n",
    "    diagnosis = {condition: score/total for condition, score in diagnosis.items()}\n",
    "    diagnosis = sorted(diagnosis.items(), key=lambda x: x[1], reverse=True)\n",
    "    \n",
    "    # Print diagnosis\n",
    "    print('\\nDiagnosis:')\n",
    "    for condition, score in diagnosis:\n",
    "        print('- {} ({:.1%} chance)'.format(condition, score))\n",
    "\n",
    "# Run expert system\n",
    "diagnose()"
   ]
  }
 ],
 "metadata": {
  "colab": {
   "provenance": []
  },
  "kernelspec": {
   "display_name": "Python 3 (ipykernel)",
   "language": "python",
   "name": "python3"
  },
  "language_info": {
   "codemirror_mode": {
    "name": "ipython",
    "version": 3
   },
   "file_extension": ".py",
   "mimetype": "text/x-python",
   "name": "python",
   "nbconvert_exporter": "python",
   "pygments_lexer": "ipython3",
   "version": "3.9.13"
  }
 },
 "nbformat": 4,
 "nbformat_minor": 1
}
